{
 "cells": [
  {
   "cell_type": "markdown",
   "metadata": {},
   "source": [
    "print(str(2)+\"HELLO\")  Type Casting"
   ]
  },
  {
   "cell_type": "code",
   "execution_count": 1,
   "metadata": {},
   "outputs": [
    {
     "name": "stdout",
     "output_type": "stream",
     "text": [
      "2HELLO\n"
     ]
    }
   ],
   "source": [
    "print(str(2)+\"HELLO\")"
   ]
  },
  {
   "cell_type": "code",
   "execution_count": 6,
   "metadata": {},
   "outputs": [
    {
     "name": "stdout",
     "output_type": "stream",
     "text": [
      "102\n"
     ]
    }
   ],
   "source": [
    "print(2+int(\"100\"))\n",
    "#comments"
   ]
  },
  {
   "cell_type": "code",
   "execution_count": 7,
   "metadata": {},
   "outputs": [
    {
     "name": "stdout",
     "output_type": "stream",
     "text": [
      "GOOD\n"
     ]
    }
   ],
   "source": [
    "print(\"GOOD\")"
   ]
  },
  {
   "cell_type": "code",
   "execution_count": 9,
   "metadata": {},
   "outputs": [
    {
     "name": "stdout",
     "output_type": "stream",
     "text": [
      "45\n"
     ]
    }
   ],
   "source": [
    "print(int(\"45\"))"
   ]
  },
  {
   "cell_type": "code",
   "execution_count": 13,
   "metadata": {},
   "outputs": [
    {
     "name": "stdout",
     "output_type": "stream",
     "text": [
      "MY NAME IS___________\n"
     ]
    }
   ],
   "source": [
    "name = \"SHAHBAZ\"\n",
    "print(\"MY NAME IS___________\")"
   ]
  },
  {
   "cell_type": "code",
   "execution_count": 15,
   "metadata": {},
   "outputs": [
    {
     "name": "stdout",
     "output_type": "stream",
     "text": [
      "MY NAME ISSHAHBAZ\n"
     ]
    }
   ],
   "source": [
    "name = \"SHAHBAZ\"\n",
    "print(\"MY NAME IS\"+name)"
   ]
  },
  {
   "cell_type": "code",
   "execution_count": 18,
   "metadata": {},
   "outputs": [
    {
     "ename": "SyntaxError",
     "evalue": "invalid syntax (<ipython-input-18-1b61b090e7bc>, line 3)",
     "output_type": "error",
     "traceback": [
      "\u001b[1;36m  File \u001b[1;32m\"<ipython-input-18-1b61b090e7bc>\"\u001b[1;36m, line \u001b[1;32m3\u001b[0m\n\u001b[1;33m    print(\"MY NAME IS \"+name\"and my Age is\"+str(age))\u001b[0m\n\u001b[1;37m                                          ^\u001b[0m\n\u001b[1;31mSyntaxError\u001b[0m\u001b[1;31m:\u001b[0m invalid syntax\n"
     ]
    }
   ],
   "source": []
  },
  {
   "cell_type": "code",
   "execution_count": 32,
   "metadata": {},
   "outputs": [
    {
     "name": "stdout",
     "output_type": "stream",
     "text": [
      "MY NAME IS SHAHBAZ and my Age is24\n"
     ]
    }
   ],
   "source": [
    "name = \"SHAHBAZ\"\n",
    "age = 24\n",
    "print(\"MY NAME IS \"+name+\" and my Age is\"+str(age))"
   ]
  },
  {
   "cell_type": "code",
   "execution_count": 22,
   "metadata": {},
   "outputs": [
    {
     "name": "stdout",
     "output_type": "stream",
     "text": [
      "my Name is SHAHBAZ and my age is 23\n"
     ]
    }
   ],
   "source": [
    "print(\"my Name is {} and my age is {}\".format(name, age))"
   ]
  },
  {
   "cell_type": "code",
   "execution_count": 23,
   "metadata": {},
   "outputs": [
    {
     "name": "stdout",
     "output_type": "stream",
     "text": [
      "my Name is 23 and my age is SHAHBAZ\n"
     ]
    }
   ],
   "source": [
    "print(\"my Name is {1} and my age is {0}\".format(name, age))"
   ]
  },
  {
   "cell_type": "markdown",
   "metadata": {},
   "source": [
    "format is a function by which we can avoid type casting\n"
   ]
  },
  {
   "cell_type": "code",
   "execution_count": 35,
   "metadata": {},
   "outputs": [
    {
     "name": "stdout",
     "output_type": "stream",
     "text": [
      "my Name is SHAHBAZ and my age is 24\n"
     ]
    }
   ],
   "source": [
    "print(\"my Name is {0} and my age is {1}\".format(name, age))"
   ]
  },
  {
   "cell_type": "code",
   "execution_count": 36,
   "metadata": {},
   "outputs": [
    {
     "name": "stdout",
     "output_type": "stream",
     "text": [
      "my Name is 24 and my age is SHAHBAZ\n"
     ]
    }
   ],
   "source": [
    "print(\"my Name is {1} and my age is {0}\".format(name, age))"
   ]
  },
  {
   "cell_type": "code",
   "execution_count": 34,
   "metadata": {},
   "outputs": [
    {
     "name": "stdout",
     "output_type": "stream",
     "text": [
      "my Name is SHAHBAZ and my age is 24\n"
     ]
    }
   ],
   "source": [
    "print(f\"my Name is {name} and my age is {age}\")"
   ]
  },
  {
   "cell_type": "code",
   "execution_count": 33,
   "metadata": {},
   "outputs": [
    {
     "name": "stdout",
     "output_type": "stream",
     "text": [
      "my Name is 24 and my age is SHAHBAZ\n"
     ]
    }
   ],
   "source": [
    "#First to run where variable defined then  wher you want to update run that line\n",
    "print(\"my Name is {1} and my age is {0}\".format(name, age))"
   ]
  },
  {
   "cell_type": "code",
   "execution_count": 39,
   "metadata": {},
   "outputs": [
    {
     "name": "stdout",
     "output_type": "stream",
     "text": [
      "abcdf\n"
     ]
    }
   ],
   "source": [
    "print(\"abcdf\")"
   ]
  },
  {
   "cell_type": "code",
   "execution_count": 43,
   "metadata": {},
   "outputs": [
    {
     "name": "stdout",
     "output_type": "stream",
     "text": [
      "HELLo HELLo HELLo HELLo HELLo HELLo HELLo HELLo HELLo HELLo HELLo HELLo HELLo HELLo HELLo HELLo HELLo HELLo HELLo HELLo HELLo HELLo HELLo HELLo HELLo HELLo HELLo HELLo HELLo HELLo HELLo HELLo HELLo HELLo HELLo HELLo \n"
     ]
    }
   ],
   "source": [
    "#it'll xply  the string output\n",
    "print(6*\"HELLo \"*6)"
   ]
  },
  {
   "cell_type": "code",
   "execution_count": 56,
   "metadata": {},
   "outputs": [
    {
     "name": "stdout",
     "output_type": "stream",
     "text": [
      "1.0123339658444024\n",
      "1124618\n"
     ]
    },
    {
     "data": {
      "text/plain": [
       "1.01"
      ]
     },
     "execution_count": 56,
     "metadata": {},
     "output_type": "execute_result"
    }
   ],
   "source": [
    "a =1067\n",
    "b= 1054\n",
    "c= a/b\n",
    "d= a*b\n",
    "c #it'll work last line of code\n",
    "#double // for int division\n",
    "#single / for float division\n",
    "#division by default give ans in float \n",
    "#round func round off the value till desired number of digits after point\n",
    "print(c)\n",
    "print(d)\n",
    "round(c,4)\n"
   ]
  },
  {
   "cell_type": "code",
   "execution_count": null,
   "metadata": {},
   "outputs": [],
   "source": []
  }
 ],
 "metadata": {
  "kernelspec": {
   "display_name": "Python 3",
   "language": "python",
   "name": "python3"
  },
  "language_info": {
   "codemirror_mode": {
    "name": "ipython",
    "version": 3
   },
   "file_extension": ".py",
   "mimetype": "text/x-python",
   "name": "python",
   "nbconvert_exporter": "python",
   "pygments_lexer": "ipython3",
   "version": "3.7.3"
  }
 },
 "nbformat": 4,
 "nbformat_minor": 2
}
