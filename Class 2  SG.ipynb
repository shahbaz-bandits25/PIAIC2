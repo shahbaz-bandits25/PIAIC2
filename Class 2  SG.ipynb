{
 "cells": [
  {
   "cell_type": "code",
   "execution_count": 2,
   "metadata": {},
   "outputs": [
    {
     "name": "stdout",
     "output_type": "stream",
     "text": [
      "Enter frist Number\n",
      "34\n",
      "Enter Second Number\n",
      "56\n",
      "Enter Operator\n",
      "*\n",
      "1904\n"
     ]
    }
   ],
   "source": [
    "print(\"Enter frist Number\")\n",
    "a = input()\n",
    "a=int(a)\n",
    "print(\"Enter Second Number\")\n",
    "b = input()\n",
    "b=int(b)\n",
    "print(\"Enter Operator\")\n",
    "c = input()\n",
    "if(c=='+'):\n",
    "    d = (a+b)\n",
    "    print(d)\n",
    "elif(c=='-'):\n",
    "    d = (a-b)\n",
    "    print(d)\n",
    "elif(c=='*'):\n",
    "    d = (a*b)\n",
    "    print(d)\n",
    "elif(c=='/'):\n",
    "    d = (a/b)\n",
    "    print(d)"
   ]
  },
  {
   "cell_type": "code",
   "execution_count": 4,
   "metadata": {},
   "outputs": [
    {
     "name": "stdout",
     "output_type": "stream",
     "text": [
      "12.3*****45.6*****567.8\n"
     ]
    }
   ],
   "source": [
    "print(12.3,45.6,567.8,sep=\"*****\")"
   ]
  },
  {
   "cell_type": "code",
   "execution_count": 5,
   "metadata": {},
   "outputs": [
    {
     "name": "stdout",
     "output_type": "stream",
     "text": [
      "Hello PIAICHello KHI"
     ]
    }
   ],
   "source": [
    "print(\"Hello PIAIC\",end='')\n",
    "print(\"Hello KHI\",end='')"
   ]
  },
  {
   "cell_type": "code",
   "execution_count": 6,
   "metadata": {},
   "outputs": [
    {
     "name": "stdout",
     "output_type": "stream",
     "text": [
      "Hello PIAIC\tHello KHI\t"
     ]
    }
   ],
   "source": [
    "print(\"Hello PIAIC\",end='\\t')\n",
    "print(\"Hello KHI\",end='\\t')"
   ]
  },
  {
   "cell_type": "code",
   "execution_count": 7,
   "metadata": {},
   "outputs": [
    {
     "name": "stdout",
     "output_type": "stream",
     "text": [
      "Hello PIAIC\n",
      "Hello KHI\n"
     ]
    }
   ],
   "source": [
    "print(\"Hello PIAIC\",end='\\n')\n",
    "print(\"Hello KHI\",end='\\n')"
   ]
  },
  {
   "cell_type": "code",
   "execution_count": 8,
   "metadata": {},
   "outputs": [
    {
     "name": "stdout",
     "output_type": "stream",
     "text": [
      "7\n"
     ]
    }
   ],
   "source": [
    "print(2+5)"
   ]
  },
  {
   "cell_type": "code",
   "execution_count": 9,
   "metadata": {},
   "outputs": [
    {
     "name": "stdout",
     "output_type": "stream",
     "text": [
      "2HELLO\n"
     ]
    }
   ],
   "source": [
    "print(\"2\"+\"HELLO\")"
   ]
  },
  {
   "cell_type": "code",
   "execution_count": 12,
   "metadata": {},
   "outputs": [
    {
     "name": "stdout",
     "output_type": "stream",
     "text": [
      "2HELLO\n"
     ]
    }
   ],
   "source": [
    "print(str(2)+\"HELLO\")"
   ]
  },
  {
   "cell_type": "code",
   "execution_count": null,
   "metadata": {},
   "outputs": [],
   "source": []
  },
  {
   "cell_type": "code",
   "execution_count": null,
   "metadata": {},
   "outputs": [],
   "source": []
  }
 ],
 "metadata": {
  "kernelspec": {
   "display_name": "Python 3",
   "language": "python",
   "name": "python3"
  },
  "language_info": {
   "codemirror_mode": {
    "name": "ipython",
    "version": 3
   },
   "file_extension": ".py",
   "mimetype": "text/x-python",
   "name": "python",
   "nbconvert_exporter": "python",
   "pygments_lexer": "ipython3",
   "version": "3.7.3"
  }
 },
 "nbformat": 4,
 "nbformat_minor": 2
}
